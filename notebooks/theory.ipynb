{
 "cells": [
  {
   "cell_type": "markdown",
   "source": [
    "# Barcode Matrix\n",
    "\n",
    "Here we attempt to define a graphical representation of fixed-length genetic barcodes.\n",
    "\n",
    "The aim is to create a graphical representation that is *complete* (i.e. includes all barcodes in its domain)."
   ],
   "metadata": {
    "collapsed": false
   }
  },
  {
   "cell_type": "markdown",
   "source": [
    "## 1. Properties of Barcode Sets\n",
    "\n",
    "In order to define a graphical representation of $k$-length genetic barcodes, let us consider the following properties of the set $B_k$ of such barcodes:\n",
    "1. Each barcode $b$ in $B_k$ is a sequence of *quaternary symbols*:\n",
    "    \\begin{equation}\n",
    "    b = (b_1, b_2, ..., b_k)\n",
    "    \\end{equation}\n",
    "2. Each symbol in a barcode can take on the following values:\n",
    "    \\begin{equation}\n",
    "    b_i \\in \\{A, C, T, G\\} \\quad (1 \\leq i \\leq k)\n",
    "    \\end{equation}\n",
    "3. The cardinality of the set, or the theoretical diversity of barcodes, is therefore:\n",
    "    \\begin{equation}\n",
    "    |B_k| = 4^k\n",
    "    \\end{equation}"
   ],
   "metadata": {
    "collapsed": false
   }
  },
  {
   "cell_type": "markdown",
   "source": [
    "## 2. Counting Barcodes Recursively\n",
    "\n",
    "One useful starting point for conceiving a complete graphical representation in $B_k$ is to consider the relationship between barcode set cardinalities.\n",
    "\n",
    "In particular, if we are counting barcodes in $B_k$, we can do so by recursing on the size of $B$ from $k\\to1$.\n",
    "\\begin{align}\n",
    "|B_k| = 4|B_{k-1}| \\\\\n",
    "|B_1| = 4\n",
    "\\end{align}\n",
    "\n",
    "By this recurrence, we can see that as we move along the sequence $b$, number of possible $b$ expands by powers of 4.\n",
    "\n",
    "Since the symbols of $b$ can be read arbitrarily in either direction, this recursion counts the number of possible barcodes accumulating from $b_1$ to $b_k$."
   ],
   "metadata": {
    "collapsed": false
   }
  },
  {
   "cell_type": "markdown",
   "source": [
    "## 3. Representing Barcode Sets as a Recursive Block Matrix\n",
    "\n",
    "The required graphical representation $G^k$ for a barcode set $B_k$ must be able to represent every element $b$ in $B_k$.\n",
    "\n",
    "To do this, we will exploit the unique topology of a **square tiling** $\\{4,4\\}$ to construct a recursive block matrix:\n",
    "\\begin{align}\n",
    "\\text{G}_k =\n",
    "\\begin{bmatrix}\n",
    "\\text{G}_{k-1} & \\text{G}_{k-1} \\\\\n",
    "\\text{G}_{k-1} & \\text{G}_{k-1}\n",
    "\\end{bmatrix} \\\\\n",
    "\\text{G}_1 =\n",
    "\\begin{bmatrix}\n",
    "A & C \\\\\n",
    "G & T\n",
    "\\end{bmatrix}\n",
    "\\end{align}\n",
    "\n",
    "The above recursive definition for $G_k$ leads to a graph with the following desirable properties:\n",
    "1. $G_k$ is a square matrix with dimensions $2^k \\times 2^k$\n",
    "2. The number of entries in $G_k$ is $4^k = |B_k|$\n",
    "\n",
    "Hence, $G_k$ is a complete matrix representation of $B_k$.\n",
    "\n",
    "\n"
   ],
   "metadata": {
    "collapsed": false
   }
  },
  {
   "cell_type": "markdown",
   "source": [
    "## 4. Indexing Barcodes Recursively\n",
    "\n",
    "The entries of the so-called *\"barcode matrix\"* $G_k$ can be indexed recursively.\n",
    "\n",
    "For any given $b$, the barcode can be accessed by performing a recursive walk in $G_k$:\n",
    "\\begin{align}\n",
    "b = (b_1, b_2, ..., b_k) \\\\\n",
    "G_k: b \\mapsto g_1^k \\\\\n",
    "g_1^k::= (G_k \\to G_{k-1} \\to G_{k-2} \\to ... \\to G_1) \\\\\n",
    "\\end{align}\n",
    "\n",
    "We use the arbitrary linear ordering of elements in $b$ to allow indexing by descent from $k \\to 1$ in $G_k$."
   ],
   "metadata": {
    "collapsed": false
   }
  },
  {
   "cell_type": "markdown",
   "source": [
    "## 5. The Structure of the Matrix is Determined by the Base Case\n",
    "\n",
    "As a final note, the structure of the barcode matrix $G_k$ is deterministically set by the order of entries in the base case $G_1$.\n",
    "\\begin{equation}\n",
    "G_1 =\n",
    "\\begin{bmatrix}\n",
    "g_{11} & g_{12} \\\\\n",
    "g_{21} & g_{22}\n",
    "\\end{bmatrix}\n",
    "\\end{equation}\n",
    "In this instance, we have defined the order $G_1 = (g_{11}, g_{12}, g_{21}, g_{22}) = (A, C, T, G)$.\n"
   ],
   "metadata": {
    "collapsed": false
   }
  }
 ],
 "metadata": {
  "kernelspec": {
   "display_name": "Python 3",
   "language": "python",
   "name": "python3"
  },
  "language_info": {
   "codemirror_mode": {
    "name": "ipython",
    "version": 2
   },
   "file_extension": ".py",
   "mimetype": "text/x-python",
   "name": "python",
   "nbconvert_exporter": "python",
   "pygments_lexer": "ipython2",
   "version": "2.7.6"
  }
 },
 "nbformat": 4,
 "nbformat_minor": 0
}
