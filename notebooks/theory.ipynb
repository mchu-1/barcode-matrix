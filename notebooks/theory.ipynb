{
 "cells": [
  {
   "cell_type": "markdown",
   "source": [
    "# Barcode Matrix\n",
    "Here we attempt to define a graphical representation of fixed-length genetic barcodes.\n",
    "\n",
    "The aim is to create a graphical representation that is *complete* (i.e. includes all barcodes in its domain)."
   ],
   "metadata": {
    "collapsed": false
   }
  },
  {
   "cell_type": "markdown",
   "source": [
    "## 1. Properties of Barcode Sets\n",
    "\n",
    "In order to define a graphical representation of $k$-length genetic barcodes, let us consider the following properties of the set $\\text{B}_k$ of such barcodes:\n",
    "1. Each barcode $b$ in $\\text{B}_k$ is a sequence of *quaternary symbols*:\n",
    "    \\begin{equation}\n",
    "    b = (b_1, b_2, ..., b_k)\n",
    "    \\end{equation}\n",
    "2. Each symbol in a barcode can take on the following values:\n",
    "    \\begin{equation}\n",
    "    b_i \\in \\{A, C, T, G\\} \\quad (1 \\leq i \\leq k)\n",
    "    \\end{equation}\n",
    "3. The cardinality of the set, or the theoretical diversity of barcodes, is therefore:\n",
    "    \\begin{equation}\n",
    "    |\\text{B}_k| = 4^k\n",
    "    \\end{equation}"
   ],
   "metadata": {
    "collapsed": false
   }
  },
  {
   "cell_type": "markdown",
   "source": [
    "## 2. Counting Barcodes Recursively\n",
    "\n",
    "One useful starting point for conceiving a complete graphical representation in $\\text{B}_k$ is to consider the relationship between barcode set cardinalities.\n",
    "\n",
    "In particular, if we are counting barcodes in $\\text{B}_k$, we can do so by recursing on the size of $\\text{B}$ from $k\\to1$.\n",
    "\\begin{align}\n",
    "|\\text{B}_k| = 4|\\text{B}_{k-1}| \\\\\n",
    "|\\text{B}_1| = 4\n",
    "\\end{align}\n",
    "\n",
    "By this recurrence, we can see that as we move along the sequence $b$, number of possible $b$ expands by powers of 4.\n",
    "\n",
    "Since the symbols of $b$ can be read arbitrarily in either direction, this recursion counts the number of possible barcodes accumulating from $b_1$ to $b_k$."
   ],
   "metadata": {
    "collapsed": false
   }
  },
  {
   "cell_type": "markdown",
   "source": [
    "## 3. Representing Barcode Sets as a Recursive Block Matrix\n",
    "\n",
    "The required graphical representation $\\text{G}_k$ for a barcode set $B_k$ must be able to represent every element $b$ in $\\text{B}_k$.\n",
    "\n",
    "To do this, we will exploit the unique topology of a **square tiling** (Schlafli symbol $\\{4,4\\}$) to construct a recursive block matrix:\n",
    "\\begin{align}\n",
    "\\text{G}_k =\n",
    "\\begin{bmatrix}\n",
    "\\text{G}_{k-1} & \\text{G}_{k-1} \\\\\n",
    "\\text{G}_{k-1} & \\text{G}_{k-1}\n",
    "\\end{bmatrix} \\\\\n",
    "\\text{G}_1 =\n",
    "\\begin{bmatrix}\n",
    "A & C \\\\\n",
    "T & G\n",
    "\\end{bmatrix}\n",
    "\\end{align}\n",
    "\n",
    "The above recursive definition for $G_k$ leads to a graph with the following desirable properties:\n",
    "1. $G_k$ is a square matrix with dimensions $2^k \\times 2^k$\n",
    "2. The number of entries in $G_k$ is $4^k = |\\text{B}_k|$\n",
    "\n",
    "Hence, $G_k$ is a complete matrix representation of $B_k$.\n",
    "\n",
    "\n"
   ],
   "metadata": {
    "collapsed": false
   }
  },
  {
   "cell_type": "markdown",
   "source": [
    "## 4. Indexing Barcodes Recursively\n",
    "\n",
    "The entries of the so-called *\"barcode matrix\"* $\\text{G}_k$ can be indexed recursively.\n",
    "\n",
    "For any given $b$, the barcode can be accessed by performing a recursive walk in $\\text{G}_k$:\n",
    "\\begin{align}\n",
    "b = (b_1, b_2, ..., b_k) \\\\\n",
    "G_k: b \\mapsto g_1^k \\\\\n",
    "g_1^k::= (\\text{G}_k \\to \\text{G}_{k-1} \\to \\text{G}_{k-2} \\to ... \\to \\text{G}_1) \\\\\n",
    "\\end{align}\n",
    "\n",
    "We use the arbitrary linear ordering of elements in $b$ to allow indexing by descent from $k \\to 1$ in $\\text{G}_k$."
   ],
   "metadata": {
    "collapsed": false
   }
  },
  {
   "cell_type": "markdown",
   "source": [
    "## 5. The Structure of the Matrix is Determined by the Base Case\n",
    "\n",
    "As a final note, the structure of the barcode matrix $\\text{G}_k$ is deterministically set by the order of entries in the base case $\\text{G}_1$.\n",
    "\\begin{equation}\n",
    "\\text{G}_1 =\n",
    "\\begin{bmatrix}\n",
    "g_{11} & g_{12} \\\\\n",
    "g_{21} & g_{22}\n",
    "\\end{bmatrix}\n",
    "\\end{equation}\n",
    "In this instance, we have defined the order $\\text{G}_1 = (g_{11}, g_{12}, g_{21}, g_{22}) = (A, C, T, G)$.\n"
   ],
   "metadata": {
    "collapsed": false
   }
  },
  {
   "cell_type": "markdown",
   "source": [
    "## 6. Determining the Indexes of a Barcode by Descent\n",
    "\n",
    "Taken together, the above properties of $\\text{G}_k$ allow us to generate an algorithm for finding the indexes of any given barcode $b$ by descent on the limits of the indexes."
   ],
   "metadata": {
    "collapsed": false
   }
  },
  {
   "cell_type": "markdown",
   "source": [
    "**Algorithm 1** Indexing by Descent\n",
    "\n",
    "**Input:** $b, G_1$\n",
    "**Output:** $x, y$\n",
    "\n",
    "1. **function** $\\textbf{index}(b, G_1)$\n",
    "2. &ensp;$k\\leftarrow\\text{dim}(b)$\n",
    "3. &ensp;$x\\leftarrow[1, 2^k]$\n",
    "4. &ensp;$y\\leftarrow[1, 2^k]\\cdot$\n",
    "5. &ensp;$\\textbf{for }i\\leftarrow 1\\text{ to }k\\textbf{ do}$\n",
    "6. &emsp;$\\textbf{if }b_i \\in [g_{11}, g_{12}]\\textbf{ then}$\n",
    "7. &emsp;&ensp;$x\\leftarrow \\left[ x_1, \\frac{x_2-x_1+1}{2}\\right]$\n",
    "8. &emsp;$\\textbf{else}$\n",
    "9. &emsp;&ensp;$x\\leftarrow \\left[ \\frac{x_2-x_1+1}{2}+1, x_2 \\right]$\n",
    "10. &emsp;$\\textbf{if }b_i \\in [g_{11}, g_{21}]\\textbf{ then}$\n",
    "11. &emsp;&ensp;$y\\leftarrow \\left[ y_1, \\frac{y_2-y_1+1}{2}\\right]$\n",
    "12. &emsp;$\\textbf{else}$\n",
    "13. &emsp;&ensp;$y\\leftarrow \\left[ \\frac{y_2-y_1+1}{2}+1, y_2 \\right]$\n",
    "14. &ensp;$\\textbf{end for}$\n",
    "15. &ensp;$\\textbf{return }x, y$\n",
    "16. $\\textbf{end function}$"
   ],
   "metadata": {
    "collapsed": false
   }
  },
  {
   "cell_type": "markdown",
   "source": [
    "Since $G_k$ has dimensions $2^k \\times 2^k$ and the algorithm halves the interval around the indexes at each step, within $k$ steps the limits will converge and we get $x, y$ for $b$."
   ],
   "metadata": {
    "collapsed": false
   }
  },
  {
   "cell_type": "markdown",
   "source": [
    "## 7. The Matrix Can Be Indexed in Linear Time\n",
    "\n",
    "If it takes $k$ steps to index each barcode, then the computational complexity of the above algorithm for $|B_k| = n$ is:\n",
    "\\begin{equation}\n",
    "\\Theta(n) = n\n",
    "\\end{equation}\n",
    "\n"
   ],
   "metadata": {
    "collapsed": false
   }
  },
  {
   "cell_type": "markdown",
   "source": [
    "## 8. Implementation of the Indexing Algorithm"
   ],
   "metadata": {
    "collapsed": false
   }
  },
  {
   "cell_type": "code",
   "execution_count": 12,
   "outputs": [],
   "source": [
    "import numpy as np\n",
    "\n",
    "def get_indexes(barcode: str, base: np.array) -> list[int]:\n",
    "    \"\"\"\n",
    "    Get indexes of barcode by descent using the base case matrix.\n",
    "    \"\"\"\n",
    "    # Length of barcode\n",
    "    k = len(barcode)\n",
    "\n",
    "    # Initiate indexes\n",
    "    x, y = [0, 2**k], [0, 2**k]\n",
    "\n",
    "    # Find indexes by limit descent\n",
    "    for i in range(k):\n",
    "        j = np.where(base == barcode[i])\n",
    "        x = [x[0], (x[1]-x[0]+1)/2] if j[0] == 0 else [(x[1]-x[0]+1)/2 + 1, x[1]]\n",
    "        y = [y[0], (y[1]-y[0]+1)/2] if j[1] == 0 else [(y[1]-y[0]+1)/2 + 1, y[1]]\n",
    "\n",
    "    # Return indexes\n",
    "    return [x, y]\n"
   ],
   "metadata": {
    "collapsed": false,
    "ExecuteTime": {
     "end_time": "2023-07-24T10:00:29.404506700Z",
     "start_time": "2023-07-24T10:00:29.400501600Z"
    }
   }
  }
 ],
 "metadata": {
  "kernelspec": {
   "display_name": "Python 3",
   "language": "python",
   "name": "python3"
  },
  "language_info": {
   "codemirror_mode": {
    "name": "ipython",
    "version": 2
   },
   "file_extension": ".py",
   "mimetype": "text/x-python",
   "name": "python",
   "nbconvert_exporter": "python",
   "pygments_lexer": "ipython2",
   "version": "2.7.6"
  }
 },
 "nbformat": 4,
 "nbformat_minor": 0
}
